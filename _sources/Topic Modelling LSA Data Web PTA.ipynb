{
 "cells": [
  {
   "cell_type": "markdown",
   "id": "b67eed29",
   "metadata": {},
   "source": [
    "# Topic Modeling menggunakan LSA dengan Jupyter Notebook\n",
    "\n",
    "<p> <em>Latent Semantic Analysis</em> (LSA) adalah salah satu teknik dasar dalam pemodelan topik. Ide intinya adalah mengambil matriks dari apa yang kita miliki — dokumen dan istilah — dan menguraikannya menjadi matriks topik-dokumen yang terpisah dan matriks topik-istilah.</p>"
   ]
  },
  {
   "cell_type": "markdown",
   "id": "7dd2054f",
   "metadata": {},
   "source": [
    "<h3>Install Library</h3>\n",
    "\n",
    "<p>Dibawah ini dicantumkan beberapa library yang dibutuhkan untuk menlakukan processing menggunakan LSA dengan jupyter notebook, anda juga bisa melakukan instalasi ini dengan menggunakan CMD untuk pengguna Windows atau Terminal untuk pengguna Linux</p>"
   ]
  },
  {
   "cell_type": "markdown",
   "id": "1c5b2b37",
   "metadata": {},
   "source": [
    "Untuk PIP dibawah ini bisa diinstall manual menggunakan CMD/Terminal"
   ]
  },
  {
   "cell_type": "code",
   "execution_count": 55,
   "id": "ae87bb76",
   "metadata": {},
   "outputs": [],
   "source": [
    "# pip install numpy\n",
    "# pip install sklearn\n",
    "# pip install pandas\n",
    "# pip install matplotlib\n",
    "# pip install seaborn\n",
    "# pip install nltk"
   ]
  },
  {
   "cell_type": "markdown",
   "id": "73926678",
   "metadata": {},
   "source": [
    "<h3>Import Library</h3>\n",
    "\n",
    "<p>Untuk library yang digunakan diantaranya ada numpy, pandas, matplotlib, seaborn, nltk, dan sklearn yang umum digunakan pada data processing</p>"
   ]
  },
  {
   "cell_type": "code",
   "execution_count": 1,
   "id": "724deafe",
   "metadata": {},
   "outputs": [],
   "source": [
    "# data visualisation and manipulation\n",
    "import numpy as np\n",
    "import pandas as pd\n",
    "import matplotlib.pyplot as plt\n",
    "from matplotlib import style\n",
    "import seaborn as sns\n",
    "#configure\n",
    "# sets matplotlib to inline and displays graphs below the corressponding cell.\n",
    "%matplotlib inline  \n",
    "style.use('fivethirtyeight')\n",
    "sns.set(style='whitegrid',color_codes=True)\n",
    "\n",
    "#import nltk\n",
    "import nltk\n",
    "from nltk.corpus import stopwords\n",
    "from nltk.tokenize import word_tokenize,sent_tokenize\n",
    "\n",
    "#preprocessing\n",
    "from nltk.corpus import stopwords  #stopwords\n",
    "from nltk import word_tokenize,sent_tokenize # tokenizing\n",
    "from nltk.stem import PorterStemmer,LancasterStemmer  # using the Porter Stemmer and Lancaster Stemmer and others\n",
    "from nltk.stem.snowball import SnowballStemmer\n",
    "from nltk.stem import WordNetLemmatizer  # lammatizer from WordNet\n",
    "\n",
    "# for named entity recognition (NER)\n",
    "from nltk import ne_chunk\n",
    "\n",
    "# vectorizers for creating the document-term-matrix (DTM)\n",
    "from sklearn.feature_extraction.text import TfidfVectorizer,CountVectorizer\n",
    "\n",
    "\n",
    "#stop-words\n",
    "stop_words=set(nltk.corpus.stopwords.words('indonesian'))"
   ]
  },
  {
   "cell_type": "markdown",
   "id": "f4af06dc",
   "metadata": {},
   "source": [
    "<h3>Instalasi Library Tambahan</h3>\n",
    "<p>Dibawah ini ada library tambahan yang harus diinstall untuk memroses kata-kata</p>"
   ]
  },
  {
   "cell_type": "code",
   "execution_count": 57,
   "id": "da37ce2f",
   "metadata": {},
   "outputs": [],
   "source": [
    "# nltk.download('corpus')\n",
    "# nltk.download('stopwords')\n",
    "# nltk.download('punkt')"
   ]
  },
  {
   "cell_type": "markdown",
   "id": "282249e5",
   "metadata": {},
   "source": [
    "<h3>Import dokumen</h3>"
   ]
  },
  {
   "cell_type": "markdown",
   "id": "a558e6c1",
   "metadata": {},
   "source": [
    "<p>Import dokumen yang sudah dicrawling dengan crawler, bisa menggunakan referensi dari web ini atau bisa menggunakan referensi kode dari website lain</p>"
   ]
  },
  {
   "cell_type": "code",
   "execution_count": 2,
   "id": "77d3fa0b",
   "metadata": {},
   "outputs": [],
   "source": [
    "df=pd.read_csv(r'abstrak_pta_manajemen.csv')"
   ]
  },
  {
   "cell_type": "markdown",
   "id": "466f2ff4",
   "metadata": {},
   "source": [
    "<h3>Display 10 data teratas pada dokumen</h3>"
   ]
  },
  {
   "cell_type": "code",
   "execution_count": 3,
   "id": "2b485343",
   "metadata": {},
   "outputs": [
    {
     "data": {
      "text/html": [
       "<div>\n",
       "<style scoped>\n",
       "    .dataframe tbody tr th:only-of-type {\n",
       "        vertical-align: middle;\n",
       "    }\n",
       "\n",
       "    .dataframe tbody tr th {\n",
       "        vertical-align: top;\n",
       "    }\n",
       "\n",
       "    .dataframe thead th {\n",
       "        text-align: right;\n",
       "    }\n",
       "</style>\n",
       "<table border=\"1\" class=\"dataframe\">\n",
       "  <thead>\n",
       "    <tr style=\"text-align: right;\">\n",
       "      <th></th>\n",
       "      <th>Judul</th>\n",
       "      <th>Penulis</th>\n",
       "      <th>Dosbing_1</th>\n",
       "      <th>Dosbing_2</th>\n",
       "      <th>Abstrak_indo</th>\n",
       "    </tr>\n",
       "  </thead>\n",
       "  <tbody>\n",
       "    <tr>\n",
       "      <th>0</th>\n",
       "      <td>PENGARUH FAKTOR-FAKTOR PELATIHAN DAN PENGEMBAN...</td>\n",
       "      <td>SATIYAH</td>\n",
       "      <td>Dra. Hj. S. Anugrahini Irawati, MM</td>\n",
       "      <td>elmi Buyung Aulia,S,ST.SE,M.MT</td>\n",
       "      <td>ABSTRAK\\r\\...</td>\n",
       "    </tr>\n",
       "    <tr>\n",
       "      <th>1</th>\n",
       "      <td>PENGARUH STRUKTUR MODAL DAN LIKUIDITAS TERHADA...</td>\n",
       "      <td>AHMAD ZAINI ALI</td>\n",
       "      <td>R. GATOT HERU PRANJOTO, SE., MM</td>\n",
       "      <td>URNAMAWATI, SE., MSi</td>\n",
       "      <td>Pendekatan penelitian yang digunakan dalam pen...</td>\n",
       "    </tr>\n",
       "    <tr>\n",
       "      <th>2</th>\n",
       "      <td>Analisis Inovasi Dan Keunggulan Bersaing \\r\\nD...</td>\n",
       "      <td>Sandy Ardiansyah</td>\n",
       "      <td>Dr. Ir. Nurita Andriani, MM.</td>\n",
       "      <td>uyono, S.E., M. S. M.</td>\n",
       "      <td>ABSTRAK\\r\\n\\tTujuan penelitian ini adalah mend...</td>\n",
       "    </tr>\n",
       "    <tr>\n",
       "      <th>3</th>\n",
       "      <td>analisis faktor-faktor yang berpengaruh terhad...</td>\n",
       "      <td>Jailani</td>\n",
       "      <td>Hj. Evaliati amaniyah, SE., M.SM</td>\n",
       "      <td>urnamawati, SE., M.Si</td>\n",
       "      <td>ABSTRAK\\r\\nTujuan penelitian ini adalah untuk ...</td>\n",
       "    </tr>\n",
       "    <tr>\n",
       "      <th>4</th>\n",
       "      <td>PENGARUH KOMPETENSI DOSEN TERHADAP KINERJA DOS...</td>\n",
       "      <td>Aththaariq</td>\n",
       "      <td>Dr.RM Moch Wispandono,.S.E,.MS</td>\n",
       "      <td>r. Muhammad Alkirom Wildan,S.E.,M.Si.</td>\n",
       "      <td>Abstrak\\r\\n\\r\\nAththaariq, Pengaruh Kompetensi...</td>\n",
       "    </tr>\n",
       "    <tr>\n",
       "      <th>5</th>\n",
       "      <td>Pengaruh Kompensasi Terhadap Kinerja Karywan p...</td>\n",
       "      <td>agustin pratiwi</td>\n",
       "      <td>Drs.Ec. Mudji Kuswinarno.M.Si.</td>\n",
       "      <td>aidal. S.E, MM.</td>\n",
       "      <td>ABSTRAK \\r\\n\\r\\n\\tTujuan penelitian ini adalah...</td>\n",
       "    </tr>\n",
       "    <tr>\n",
       "      <th>6</th>\n",
       "      <td>ANALISIS PORTOFOLIO YANG OPTIMAL DI BEI DENGAN...</td>\n",
       "      <td>Mira Dwiastuti</td>\n",
       "      <td>Hj Evaliati Amaniyah, S.E, M.S.M</td>\n",
       "      <td>chsan Gani, S.E, M.Si</td>\n",
       "      <td>Suatu keputusan investasi selalu berhubungan d...</td>\n",
       "    </tr>\n",
       "    <tr>\n",
       "      <th>7</th>\n",
       "      <td>Pengaruh Bauran Pemasaran Terhadap Keputusan P...</td>\n",
       "      <td>Mahrus Saleh</td>\n",
       "      <td>Dr.H Pribanus Wantara, Drs, MM</td>\n",
       "      <td>adi Purnomo, SE., MM</td>\n",
       "      <td>Objek penelitian ini adalah pembelian produk X...</td>\n",
       "    </tr>\n",
       "    <tr>\n",
       "      <th>8</th>\n",
       "      <td>PENGARUH HARGA DAN KUALITAS PRODUK TERHADAP KE...</td>\n",
       "      <td>Irnita Agustin Putri</td>\n",
       "      <td>Dr. Drs. Ec H. Muh Syarif, M.Si</td>\n",
       "      <td>adi Purnomo, S.E., MM</td>\n",
       "      <td>ABSTRAK \\r\\nTujuan penelitian ini adalah (1) U...</td>\n",
       "    </tr>\n",
       "    <tr>\n",
       "      <th>9</th>\n",
       "      <td>PENGARUH PERSEPSI NILAI TERHADAP KEPUASAN PELA...</td>\n",
       "      <td>Hasan Basri</td>\n",
       "      <td>Dr. Nurita Andriani, Ir., MM</td>\n",
       "      <td>ustina Chrismardani, S.Si., MM</td>\n",
       "      <td>Tujuan penelitian ini adalah untuk mengetahui ...</td>\n",
       "    </tr>\n",
       "  </tbody>\n",
       "</table>\n",
       "</div>"
      ],
      "text/plain": [
       "                                               Judul               Penulis  \\\n",
       "0  PENGARUH FAKTOR-FAKTOR PELATIHAN DAN PENGEMBAN...               SATIYAH   \n",
       "1  PENGARUH STRUKTUR MODAL DAN LIKUIDITAS TERHADA...       AHMAD ZAINI ALI   \n",
       "2  Analisis Inovasi Dan Keunggulan Bersaing \\r\\nD...      Sandy Ardiansyah   \n",
       "3  analisis faktor-faktor yang berpengaruh terhad...               Jailani   \n",
       "4  PENGARUH KOMPETENSI DOSEN TERHADAP KINERJA DOS...            Aththaariq   \n",
       "5  Pengaruh Kompensasi Terhadap Kinerja Karywan p...       agustin pratiwi   \n",
       "6  ANALISIS PORTOFOLIO YANG OPTIMAL DI BEI DENGAN...        Mira Dwiastuti   \n",
       "7  Pengaruh Bauran Pemasaran Terhadap Keputusan P...          Mahrus Saleh   \n",
       "8  PENGARUH HARGA DAN KUALITAS PRODUK TERHADAP KE...  Irnita Agustin Putri   \n",
       "9  PENGARUH PERSEPSI NILAI TERHADAP KEPUASAN PELA...           Hasan Basri   \n",
       "\n",
       "                            Dosbing_1                              Dosbing_2  \\\n",
       "0  Dra. Hj. S. Anugrahini Irawati, MM         elmi Buyung Aulia,S,ST.SE,M.MT   \n",
       "1     R. GATOT HERU PRANJOTO, SE., MM                   URNAMAWATI, SE., MSi   \n",
       "2        Dr. Ir. Nurita Andriani, MM.                  uyono, S.E., M. S. M.   \n",
       "3    Hj. Evaliati amaniyah, SE., M.SM                  urnamawati, SE., M.Si   \n",
       "4      Dr.RM Moch Wispandono,.S.E,.MS  r. Muhammad Alkirom Wildan,S.E.,M.Si.   \n",
       "5     Drs.Ec. Mudji Kuswinarno.M.Si.                         aidal. S.E, MM.   \n",
       "6    Hj Evaliati Amaniyah, S.E, M.S.M                  chsan Gani, S.E, M.Si   \n",
       "7      Dr.H Pribanus Wantara, Drs, MM                   adi Purnomo, SE., MM   \n",
       "8     Dr. Drs. Ec H. Muh Syarif, M.Si                  adi Purnomo, S.E., MM   \n",
       "9        Dr. Nurita Andriani, Ir., MM         ustina Chrismardani, S.Si., MM   \n",
       "\n",
       "                                        Abstrak_indo  \n",
       "0                                      ABSTRAK\\r\\...  \n",
       "1  Pendekatan penelitian yang digunakan dalam pen...  \n",
       "2  ABSTRAK\\r\\n\\tTujuan penelitian ini adalah mend...  \n",
       "3  ABSTRAK\\r\\nTujuan penelitian ini adalah untuk ...  \n",
       "4  Abstrak\\r\\n\\r\\nAththaariq, Pengaruh Kompetensi...  \n",
       "5  ABSTRAK \\r\\n\\r\\n\\tTujuan penelitian ini adalah...  \n",
       "6  Suatu keputusan investasi selalu berhubungan d...  \n",
       "7  Objek penelitian ini adalah pembelian produk X...  \n",
       "8  ABSTRAK \\r\\nTujuan penelitian ini adalah (1) U...  \n",
       "9  Tujuan penelitian ini adalah untuk mengetahui ...  "
      ]
     },
     "execution_count": 3,
     "metadata": {},
     "output_type": "execute_result"
    }
   ],
   "source": [
    "df.head(10)"
   ]
  },
  {
   "cell_type": "code",
   "execution_count": 4,
   "id": "fa3dae91",
   "metadata": {},
   "outputs": [],
   "source": [
    "def clean_text(headline):\n",
    "    le=WordNetLemmatizer()\n",
    "    word_tokens=word_tokenize(headline)\n",
    "    tokens=[le.lemmatize(w) for w in word_tokens if w not in stop_words and len(w)>3]\n",
    "    cleaned_text=\" \".join(tokens)\n",
    "    return cleaned_text"
   ]
  },
  {
   "cell_type": "markdown",
   "id": "62e093d8",
   "metadata": {},
   "source": [
    "<h3>Pembersihan dokumen</h3>\n",
    "\n",
    "<p>pembersihan dokumen diperlukan agar supaya dalam proses TF/IDF tidak ada simbol-simbol yang masuk dalam proses tersebut yang mengakibatkan dokumen menjadi kurang otentik</p>"
   ]
  },
  {
   "cell_type": "code",
   "execution_count": 6,
   "id": "12deb4f7",
   "metadata": {},
   "outputs": [],
   "source": [
    "# time taking\n",
    "df['abstrak_cleaned']=df['Abstrak_indo'].apply(clean_text)"
   ]
  },
  {
   "cell_type": "markdown",
   "id": "55b6d09f",
   "metadata": {},
   "source": [
    "<h3>Perbandingan data yang belum dan sudah dibershkan</3>"
   ]
  },
  {
   "cell_type": "code",
   "execution_count": 7,
   "id": "b15dd74c",
   "metadata": {},
   "outputs": [
    {
     "data": {
      "text/html": [
       "<div>\n",
       "<style scoped>\n",
       "    .dataframe tbody tr th:only-of-type {\n",
       "        vertical-align: middle;\n",
       "    }\n",
       "\n",
       "    .dataframe tbody tr th {\n",
       "        vertical-align: top;\n",
       "    }\n",
       "\n",
       "    .dataframe thead th {\n",
       "        text-align: right;\n",
       "    }\n",
       "</style>\n",
       "<table border=\"1\" class=\"dataframe\">\n",
       "  <thead>\n",
       "    <tr style=\"text-align: right;\">\n",
       "      <th></th>\n",
       "      <th>Judul</th>\n",
       "      <th>Penulis</th>\n",
       "      <th>Dosbing_1</th>\n",
       "      <th>Dosbing_2</th>\n",
       "      <th>Abstrak_indo</th>\n",
       "      <th>abstrak_cleaned</th>\n",
       "    </tr>\n",
       "  </thead>\n",
       "  <tbody>\n",
       "    <tr>\n",
       "      <th>0</th>\n",
       "      <td>PENGARUH FAKTOR-FAKTOR PELATIHAN DAN PENGEMBAN...</td>\n",
       "      <td>SATIYAH</td>\n",
       "      <td>Dra. Hj. S. Anugrahini Irawati, MM</td>\n",
       "      <td>elmi Buyung Aulia,S,ST.SE,M.MT</td>\n",
       "      <td>ABSTRAK\\r\\...</td>\n",
       "      <td>ABSTRAK Satiyah Pengaruh Faktor-faktor Pelatih...</td>\n",
       "    </tr>\n",
       "    <tr>\n",
       "      <th>1</th>\n",
       "      <td>PENGARUH STRUKTUR MODAL DAN LIKUIDITAS TERHADA...</td>\n",
       "      <td>AHMAD ZAINI ALI</td>\n",
       "      <td>R. GATOT HERU PRANJOTO, SE., MM</td>\n",
       "      <td>URNAMAWATI, SE., MSi</td>\n",
       "      <td>Pendekatan penelitian yang digunakan dalam pen...</td>\n",
       "      <td>Pendekatan penelitian penelitian pendekatan ku...</td>\n",
       "    </tr>\n",
       "    <tr>\n",
       "      <th>2</th>\n",
       "      <td>Analisis Inovasi Dan Keunggulan Bersaing \\r\\nD...</td>\n",
       "      <td>Sandy Ardiansyah</td>\n",
       "      <td>Dr. Ir. Nurita Andriani, MM.</td>\n",
       "      <td>uyono, S.E., M. S. M.</td>\n",
       "      <td>ABSTRAK\\r\\n\\tTujuan penelitian ini adalah mend...</td>\n",
       "      <td>ABSTRAK Tujuan penelitian mendeskripsikan inov...</td>\n",
       "    </tr>\n",
       "    <tr>\n",
       "      <th>3</th>\n",
       "      <td>analisis faktor-faktor yang berpengaruh terhad...</td>\n",
       "      <td>Jailani</td>\n",
       "      <td>Hj. Evaliati amaniyah, SE., M.SM</td>\n",
       "      <td>urnamawati, SE., M.Si</td>\n",
       "      <td>ABSTRAK\\r\\nTujuan penelitian ini adalah untuk ...</td>\n",
       "      <td>ABSTRAK Tujuan penelitian pengaruh variabel cu...</td>\n",
       "    </tr>\n",
       "    <tr>\n",
       "      <th>4</th>\n",
       "      <td>PENGARUH KOMPETENSI DOSEN TERHADAP KINERJA DOS...</td>\n",
       "      <td>Aththaariq</td>\n",
       "      <td>Dr.RM Moch Wispandono,.S.E,.MS</td>\n",
       "      <td>r. Muhammad Alkirom Wildan,S.E.,M.Si.</td>\n",
       "      <td>Abstrak\\r\\n\\r\\nAththaariq, Pengaruh Kompetensi...</td>\n",
       "      <td>Abstrak Aththaariq Pengaruh Kompetensi Dosen T...</td>\n",
       "    </tr>\n",
       "  </tbody>\n",
       "</table>\n",
       "</div>"
      ],
      "text/plain": [
       "                                               Judul           Penulis  \\\n",
       "0  PENGARUH FAKTOR-FAKTOR PELATIHAN DAN PENGEMBAN...           SATIYAH   \n",
       "1  PENGARUH STRUKTUR MODAL DAN LIKUIDITAS TERHADA...   AHMAD ZAINI ALI   \n",
       "2  Analisis Inovasi Dan Keunggulan Bersaing \\r\\nD...  Sandy Ardiansyah   \n",
       "3  analisis faktor-faktor yang berpengaruh terhad...           Jailani   \n",
       "4  PENGARUH KOMPETENSI DOSEN TERHADAP KINERJA DOS...        Aththaariq   \n",
       "\n",
       "                            Dosbing_1                              Dosbing_2  \\\n",
       "0  Dra. Hj. S. Anugrahini Irawati, MM         elmi Buyung Aulia,S,ST.SE,M.MT   \n",
       "1     R. GATOT HERU PRANJOTO, SE., MM                   URNAMAWATI, SE., MSi   \n",
       "2        Dr. Ir. Nurita Andriani, MM.                  uyono, S.E., M. S. M.   \n",
       "3    Hj. Evaliati amaniyah, SE., M.SM                  urnamawati, SE., M.Si   \n",
       "4      Dr.RM Moch Wispandono,.S.E,.MS  r. Muhammad Alkirom Wildan,S.E.,M.Si.   \n",
       "\n",
       "                                        Abstrak_indo  \\\n",
       "0                                      ABSTRAK\\r\\...   \n",
       "1  Pendekatan penelitian yang digunakan dalam pen...   \n",
       "2  ABSTRAK\\r\\n\\tTujuan penelitian ini adalah mend...   \n",
       "3  ABSTRAK\\r\\nTujuan penelitian ini adalah untuk ...   \n",
       "4  Abstrak\\r\\n\\r\\nAththaariq, Pengaruh Kompetensi...   \n",
       "\n",
       "                                     abstrak_cleaned  \n",
       "0  ABSTRAK Satiyah Pengaruh Faktor-faktor Pelatih...  \n",
       "1  Pendekatan penelitian penelitian pendekatan ku...  \n",
       "2  ABSTRAK Tujuan penelitian mendeskripsikan inov...  \n",
       "3  ABSTRAK Tujuan penelitian pengaruh variabel cu...  \n",
       "4  Abstrak Aththaariq Pengaruh Kompetensi Dosen T...  "
      ]
     },
     "execution_count": 7,
     "metadata": {},
     "output_type": "execute_result"
    }
   ],
   "source": [
    "df.head()"
   ]
  },
  {
   "cell_type": "markdown",
   "id": "801930c7",
   "metadata": {},
   "source": [
    "<p>Dorp kolom Abstrak</p>"
   ]
  },
  {
   "cell_type": "code",
   "execution_count": 8,
   "id": "9097d454",
   "metadata": {},
   "outputs": [],
   "source": [
    "df.drop(['Abstrak_indo'],axis=1,inplace=True)"
   ]
  },
  {
   "cell_type": "code",
   "execution_count": 9,
   "id": "f24c66c4",
   "metadata": {},
   "outputs": [
    {
     "data": {
      "text/html": [
       "<div>\n",
       "<style scoped>\n",
       "    .dataframe tbody tr th:only-of-type {\n",
       "        vertical-align: middle;\n",
       "    }\n",
       "\n",
       "    .dataframe tbody tr th {\n",
       "        vertical-align: top;\n",
       "    }\n",
       "\n",
       "    .dataframe thead th {\n",
       "        text-align: right;\n",
       "    }\n",
       "</style>\n",
       "<table border=\"1\" class=\"dataframe\">\n",
       "  <thead>\n",
       "    <tr style=\"text-align: right;\">\n",
       "      <th></th>\n",
       "      <th>Judul</th>\n",
       "      <th>Penulis</th>\n",
       "      <th>Dosbing_1</th>\n",
       "      <th>Dosbing_2</th>\n",
       "      <th>abstrak_cleaned</th>\n",
       "    </tr>\n",
       "  </thead>\n",
       "  <tbody>\n",
       "    <tr>\n",
       "      <th>0</th>\n",
       "      <td>PENGARUH FAKTOR-FAKTOR PELATIHAN DAN PENGEMBAN...</td>\n",
       "      <td>SATIYAH</td>\n",
       "      <td>Dra. Hj. S. Anugrahini Irawati, MM</td>\n",
       "      <td>elmi Buyung Aulia,S,ST.SE,M.MT</td>\n",
       "      <td>ABSTRAK Satiyah Pengaruh Faktor-faktor Pelatih...</td>\n",
       "    </tr>\n",
       "    <tr>\n",
       "      <th>1</th>\n",
       "      <td>PENGARUH STRUKTUR MODAL DAN LIKUIDITAS TERHADA...</td>\n",
       "      <td>AHMAD ZAINI ALI</td>\n",
       "      <td>R. GATOT HERU PRANJOTO, SE., MM</td>\n",
       "      <td>URNAMAWATI, SE., MSi</td>\n",
       "      <td>Pendekatan penelitian penelitian pendekatan ku...</td>\n",
       "    </tr>\n",
       "    <tr>\n",
       "      <th>2</th>\n",
       "      <td>Analisis Inovasi Dan Keunggulan Bersaing \\r\\nD...</td>\n",
       "      <td>Sandy Ardiansyah</td>\n",
       "      <td>Dr. Ir. Nurita Andriani, MM.</td>\n",
       "      <td>uyono, S.E., M. S. M.</td>\n",
       "      <td>ABSTRAK Tujuan penelitian mendeskripsikan inov...</td>\n",
       "    </tr>\n",
       "    <tr>\n",
       "      <th>3</th>\n",
       "      <td>analisis faktor-faktor yang berpengaruh terhad...</td>\n",
       "      <td>Jailani</td>\n",
       "      <td>Hj. Evaliati amaniyah, SE., M.SM</td>\n",
       "      <td>urnamawati, SE., M.Si</td>\n",
       "      <td>ABSTRAK Tujuan penelitian pengaruh variabel cu...</td>\n",
       "    </tr>\n",
       "    <tr>\n",
       "      <th>4</th>\n",
       "      <td>PENGARUH KOMPETENSI DOSEN TERHADAP KINERJA DOS...</td>\n",
       "      <td>Aththaariq</td>\n",
       "      <td>Dr.RM Moch Wispandono,.S.E,.MS</td>\n",
       "      <td>r. Muhammad Alkirom Wildan,S.E.,M.Si.</td>\n",
       "      <td>Abstrak Aththaariq Pengaruh Kompetensi Dosen T...</td>\n",
       "    </tr>\n",
       "  </tbody>\n",
       "</table>\n",
       "</div>"
      ],
      "text/plain": [
       "                                               Judul           Penulis  \\\n",
       "0  PENGARUH FAKTOR-FAKTOR PELATIHAN DAN PENGEMBAN...           SATIYAH   \n",
       "1  PENGARUH STRUKTUR MODAL DAN LIKUIDITAS TERHADA...   AHMAD ZAINI ALI   \n",
       "2  Analisis Inovasi Dan Keunggulan Bersaing \\r\\nD...  Sandy Ardiansyah   \n",
       "3  analisis faktor-faktor yang berpengaruh terhad...           Jailani   \n",
       "4  PENGARUH KOMPETENSI DOSEN TERHADAP KINERJA DOS...        Aththaariq   \n",
       "\n",
       "                            Dosbing_1                              Dosbing_2  \\\n",
       "0  Dra. Hj. S. Anugrahini Irawati, MM         elmi Buyung Aulia,S,ST.SE,M.MT   \n",
       "1     R. GATOT HERU PRANJOTO, SE., MM                   URNAMAWATI, SE., MSi   \n",
       "2        Dr. Ir. Nurita Andriani, MM.                  uyono, S.E., M. S. M.   \n",
       "3    Hj. Evaliati amaniyah, SE., M.SM                  urnamawati, SE., M.Si   \n",
       "4      Dr.RM Moch Wispandono,.S.E,.MS  r. Muhammad Alkirom Wildan,S.E.,M.Si.   \n",
       "\n",
       "                                     abstrak_cleaned  \n",
       "0  ABSTRAK Satiyah Pengaruh Faktor-faktor Pelatih...  \n",
       "1  Pendekatan penelitian penelitian pendekatan ku...  \n",
       "2  ABSTRAK Tujuan penelitian mendeskripsikan inov...  \n",
       "3  ABSTRAK Tujuan penelitian pengaruh variabel cu...  \n",
       "4  Abstrak Aththaariq Pengaruh Kompetensi Dosen T...  "
      ]
     },
     "execution_count": 9,
     "metadata": {},
     "output_type": "execute_result"
    }
   ],
   "source": [
    "df.head()"
   ]
  },
  {
   "cell_type": "markdown",
   "id": "e53ae645",
   "metadata": {},
   "source": [
    "<p>Data frame kolom abstrak_cleaned</p>"
   ]
  },
  {
   "cell_type": "code",
   "execution_count": 10,
   "id": "2ffa6080",
   "metadata": {},
   "outputs": [
    {
     "data": {
      "text/plain": [
       "'ABSTRAK Satiyah Pengaruh Faktor-faktor Pelatihan Pengembangan Terhadap Produktivitas Kerja Dinas Kelautan Perikanan Bangkalan Dibawah bimbingan Dra.Hj.S.Anugrahini Irawati Helmi Buyung Aulia ST.SE M.MT Dalam upaya meningkatkan produktivitas kerja mudah salah usaha produktivitas meningkat menerapkan program pelatihan pengembangan sumber daya manusia dilaksanakan instansi produktivitas tercapai meningkat kemampuan pegawai efektif efisien Dengan pelatihan pengembnagan diharapkan pegawai menyesuaikan kebutuhan-kebutuhan sikap tingkah laku keterampilan pengetahuan sesuai tuntutan perubahan Dengan pelatihan pengembangan pegawai mendukung terciptanya suasana kerja kondusif instansi produktivitasi kerja meningkat Tujuan penelitian Pengaruh Faktor-faktor Pelatihan Pengembangan Terhadap Produktivitas Kerja Dinas Kelautan Perikanan Bangkalan Untuk mengukur menganalisa hubungan variabel peneliti pendekatan observasional analitik pengamatan langsung responden penyebaran kuisioner dianalisis Penelitian penelitian populasi responden sampel diolah SPSS Versi 13.00 dianalisis metode statistik metode probality sampling simple random sampling Kesimpulan penelitian Faktor-faktor pelatihan pengembangan perbedaan individu pegawai hubungan analisis jabatan motivasi partisipasi aktif seleksi peserta seleksi instruktur metode pelatihan pengembangan pengaruh simultan produktivitas kerja pegawai Dinas Kelautan Perikanan Kabupaten Bangkalan Terbukti nilai koefisien determinasi berganda square 0,751 Fhitung 9,500 Ftabel 2,37 Faktor hubungan analisis jabatan berpengaruh parsial produktivitas kerja pegawai Dinas Kelautan Perikanan Kabupaten Bangkalan Pengujian Hipotesis variabel motivasi terbukti nilai thitung Sebesar 6,442 seleksi peserta pengaruh dominan produktivitas kerja pegawai instansi Dinas Kelautan Perikanan Bangkalan Kata kunci Dinas Kelautan Perikanan Faktor-faktor Pelatihan Pengembangan Produktivitas Kerja'"
      ]
     },
     "execution_count": 10,
     "metadata": {},
     "output_type": "execute_result"
    }
   ],
   "source": [
    "df['abstrak_cleaned'][0]"
   ]
  },
  {
   "cell_type": "code",
   "execution_count": 11,
   "id": "5163d195",
   "metadata": {},
   "outputs": [],
   "source": [
    "vect =TfidfVectorizer(stop_words=stop_words,max_features=1000) # to play with. min_df,max_df,max_features etc..."
   ]
  },
  {
   "cell_type": "code",
   "execution_count": 12,
   "id": "4886e1b7",
   "metadata": {},
   "outputs": [
    {
     "name": "stderr",
     "output_type": "stream",
     "text": [
      "C:\\Users\\WINDOWS\\AppData\\Local\\Programs\\Python\\Python39\\lib\\site-packages\\sklearn\\feature_extraction\\text.py:404: UserWarning: Your stop_words may be inconsistent with your preprocessing. Tokenizing the stop words generated tokens ['baiknya', 'berkali', 'kali', 'kurangnya', 'mata', 'olah', 'sekurang', 'setidak', 'tama', 'tidaknya'] not in stop_words.\n",
      "  warnings.warn(\n"
     ]
    }
   ],
   "source": [
    "vect_text=vect.fit_transform(df['abstrak_cleaned'])"
   ]
  },
  {
   "cell_type": "code",
   "execution_count": 13,
   "id": "ed3e0ddc",
   "metadata": {},
   "outputs": [
    {
     "name": "stdout",
     "output_type": "stream",
     "text": [
      "(12, 421)\n",
      "  (0, 207)\t0.01599452938645701\n",
      "  (0, 114)\t0.024301648182230094\n",
      "  (0, 20)\t0.039358179637236666\n",
      "  (0, 396)\t0.039358179637236666\n",
      "  (0, 145)\t0.02218900609405214\n",
      "  (0, 295)\t0.026800373422343666\n",
      "  (0, 272)\t0.018744730407771717\n",
      "  (0, 67)\t0.017300759741795475\n",
      "  (0, 14)\t0.039358179637236666\n",
      "  (0, 136)\t0.039358179637236666\n",
      "  (0, 23)\t0.039358179637236666\n",
      "  (0, 130)\t0.03380126186277829\n",
      "  (0, 30)\t0.039358179637236666\n",
      "  (0, 374)\t0.026800373422343666\n",
      "  (0, 64)\t0.017300759741795475\n",
      "  (0, 91)\t0.03380126186277829\n",
      "  (0, 192)\t0.039358179637236666\n",
      "  (0, 260)\t0.037489460815543434\n",
      "  (0, 389)\t0.06760252372555658\n",
      "  (0, 167)\t0.07871635927447333\n",
      "  (0, 366)\t0.01599452938645701\n",
      "  (0, 156)\t0.039358179637236666\n",
      "  (0, 311)\t0.07871635927447333\n",
      "  (0, 355)\t0.11807453891171002\n",
      "  (0, 45)\t0.02985856595668848\n",
      "  :\t:\n",
      "  (11, 71)\t0.05096982650527712\n",
      "  (11, 338)\t0.13507358979855205\n",
      "  (11, 202)\t0.18009811973140274\n",
      "  (11, 367)\t0.045024529932850686\n",
      "  (11, 108)\t0.0404129996435943\n",
      "  (11, 61)\t0.0404129996435943\n",
      "  (11, 102)\t0.045024529932850686\n",
      "  (11, 393)\t0.09004905986570137\n",
      "  (11, 63)\t0.10037818666620166\n",
      "  (11, 362)\t0.09209942541998285\n",
      "  (11, 141)\t0.022320383586231\n",
      "  (11, 357)\t0.2038793060211085\n",
      "  (11, 207)\t0.024118578506650515\n",
      "  (11, 272)\t0.028265680158657443\n",
      "  (11, 67)\t0.13044139092035623\n",
      "  (11, 374)\t0.0404129996435943\n",
      "  (11, 260)\t0.028265680158657443\n",
      "  (11, 366)\t0.024118578506650515\n",
      "  (11, 411)\t0.2894229420798062\n",
      "  (11, 287)\t0.0619986138353089\n",
      "  (11, 402)\t0.026088278184071244\n",
      "  (11, 186)\t0.15290947951583136\n",
      "  (11, 364)\t0.15290947951583136\n",
      "  (11, 290)\t0.04823715701330103\n",
      "  (11, 39)\t0.028265680158657443\n"
     ]
    }
   ],
   "source": [
    "print(vect_text.shape)\n",
    "print(vect_text)"
   ]
  },
  {
   "cell_type": "markdown",
   "id": "cf7dd6d3",
   "metadata": {},
   "source": [
    "<h2>Term Frequency</h2>\n",
    "\n",
    "<p>Data di atas adalah data yang sudah diproses menggunakan TF-IDF untuk menentukan Term Frequency tiap topik. TF-IDF (Term Frequency - Inverse Document Frequency) adalah algoritma praktis yang menggunakan frekuensi kata untuk menentukan seberapa relevan kata-kata itu dengan dokumen tertentu. Ini adalah pendekatan yang relatif sederhana namun intuitif untuk pembobotan kata, memungkinkannya bertindak sebagai titik awal yang bagus untuk berbagai tugas.</p>\n",
    "<h3>Rumus TF-IDF</h3>\n",
    "\n",
    "$$\n",
    "\\operatorname{tf}(t, d)=\\frac{f_{t, d}}{\\sum_{t^{\\prime} \\in d} f_{t^{\\prime}, d}}\n",
    "$$\n",
    "\n",
    "<p></p>"
   ]
  },
  {
   "cell_type": "code",
   "execution_count": 14,
   "id": "eabcf312",
   "metadata": {},
   "outputs": [
    {
     "name": "stdout",
     "output_type": "stream",
     "text": [
      "penelitian yamaha\n",
      "1.1670540846631663\n",
      "1.9555114450274362\n"
     ]
    },
    {
     "name": "stderr",
     "output_type": "stream",
     "text": [
      "C:\\Users\\WINDOWS\\AppData\\Local\\Programs\\Python\\Python39\\lib\\site-packages\\sklearn\\utils\\deprecation.py:87: FutureWarning: Function get_feature_names is deprecated; get_feature_names is deprecated in 1.0 and will be removed in 1.2. Please use get_feature_names_out instead.\n",
      "  warnings.warn(msg, category=FutureWarning)\n"
     ]
    }
   ],
   "source": [
    "idf=vect.idf_\n",
    "dd=dict(zip(vect.get_feature_names(), idf))\n",
    "l=sorted(dd, key=(dd).get)\n",
    "# print(l)\n",
    "print(l[0],l[-1])\n",
    "print(dd['variabel'])\n",
    "print(dd['indonesia'])  # police is most common and forecast is least common among the news headlines."
   ]
  },
  {
   "cell_type": "markdown",
   "id": "ad9c39f1",
   "metadata": {},
   "source": [
    "<h2>Proses LSA</h2>\n",
    "\n",
    "<p>LSA  adalah metode yang memungkinkan kita mengekstrak topik dari dokumen dengan mengubah teksnya menjadi matriks topik-kata dan topik-dokumen. Prosedur untuk LSA relatif mudah: Ubah korpus teks menjadi matriks istilah dokumen. Menerapkan dekomposisi nilai singular terpotong.</p>\n",
    "\n",
    "$$\n",
    "A_{m n}=U_{m m} x S_{m n} x V_{n n}^{T}\n",
    "$$\n",
    "\n",
    "<p>Matriks U = baris merepresentasikan vektor pada topic dokumen</p>\n",
    "<p>Matriks V = Garis ini merepresentasikan vektor istilah yang dinyatakan pada topik</p>\n",
    "<p>Matriks S = Matriks diagonal yang memiliki elemen-elemen diagonal yang digunakan sebagai nilai singular A</p>\n",
    "\n",
    "<p>tiap baris pada matriks U merupakan representasi vektor yang terdapat pada dokumen yang sesuai, untuk melakukannya dapat menggunakan library SKLearn yang bernama TruncatedSVD untuk menimplementasikan LSA</p>"
   ]
  },
  {
   "cell_type": "code",
   "execution_count": 15,
   "id": "fb3b78a4",
   "metadata": {},
   "outputs": [
    {
     "name": "stdout",
     "output_type": "stream",
     "text": [
      "           0         1         2         3         4         5         6  \\\n",
      "0   0.179047  0.011499  0.403951 -0.306683  0.113335  0.768571  0.093148   \n",
      "1   0.365794  0.736822 -0.133900 -0.001777 -0.190221  0.067836  0.007383   \n",
      "2   0.157823  0.016985  0.380209  0.581596 -0.110105  0.201763 -0.559837   \n",
      "3   0.388325  0.733095 -0.188542  0.026454 -0.043886  0.032036 -0.010010   \n",
      "4   0.243016  0.083634  0.510082  0.140593  0.084904 -0.401415 -0.134754   \n",
      "5   0.198503  0.101271  0.546661  0.130092 -0.099536 -0.188941  0.669752   \n",
      "6   0.096908  0.181464 -0.028515  0.102411  0.954979 -0.041551  0.004846   \n",
      "7   0.638722 -0.278817 -0.217212  0.295833 -0.011115  0.104725  0.146237   \n",
      "8   0.757373 -0.246489 -0.139313 -0.010900  0.004183 -0.034029  0.036372   \n",
      "9   0.525528 -0.156089  0.130003 -0.387922  0.003569  0.052361 -0.166785   \n",
      "10  0.564591 -0.286399 -0.214065  0.208733 -0.002612  0.014217  0.103593   \n",
      "11  0.401551 -0.021065  0.141807 -0.525712 -0.015393 -0.359321 -0.297836   \n",
      "\n",
      "           7         8         9  \n",
      "0   0.226357 -0.214866 -0.022117  \n",
      "1   0.026200  0.038456  0.027405  \n",
      "2  -0.348714 -0.040074  0.029414  \n",
      "3   0.023083 -0.013387  0.013766  \n",
      "4   0.677676  0.078132 -0.039778  \n",
      "5  -0.371506 -0.003842  0.043225  \n",
      "6  -0.162247  0.008845  0.016421  \n",
      "7   0.047057 -0.044743 -0.428456  \n",
      "8  -0.002794  0.044005 -0.235511  \n",
      "9  -0.166623  0.648326  0.172854  \n",
      "10  0.144576 -0.230582  0.650408  \n",
      "11 -0.252171 -0.494166 -0.056227  \n",
      "(12, 10)\n"
     ]
    }
   ],
   "source": [
    "from sklearn.decomposition import TruncatedSVD\n",
    "lsa_model = TruncatedSVD(n_components=10, algorithm='randomized', n_iter=10, random_state=42)\n",
    "\n",
    "lsa_top=lsa_model.fit_transform(vect_text)\n",
    "print(pd.DataFrame(lsa_top))\n",
    "print(lsa_top.shape)  # (no_of_doc*no_of_topics)"
   ]
  },
  {
   "cell_type": "code",
   "execution_count": 16,
   "id": "b1e34d31",
   "metadata": {},
   "outputs": [
    {
     "name": "stdout",
     "output_type": "stream",
     "text": [
      "Document 0 :\n",
      "Topic  0  :  17.904680027236395\n",
      "Topic  1  :  1.1499259591303683\n",
      "Topic  2  :  40.395145872065655\n",
      "Topic  3  :  -30.66827598861418\n",
      "Topic  4  :  11.333522577969312\n",
      "Topic  5  :  76.85708534439786\n",
      "Topic  6  :  9.31480287960896\n",
      "Topic  7  :  22.635710735556742\n",
      "Topic  8  :  -21.48658409133149\n",
      "Topic  9  :  -2.2116774508513766\n"
     ]
    }
   ],
   "source": [
    "l=lsa_top[0]\n",
    "print(\"Document 0 :\")\n",
    "for i,topic in enumerate(l):\n",
    "  print(\"Topic \",i,\" : \",topic*100)"
   ]
  },
  {
   "cell_type": "code",
   "execution_count": 17,
   "id": "507a4e64",
   "metadata": {},
   "outputs": [
    {
     "name": "stdout",
     "output_type": "stream",
     "text": [
      "(10, 421)\n",
      "        0         1         2         3         4         5         6    \\\n",
      "0  0.003222  0.005536  0.006125  0.006125  0.002168  0.006505  0.006491   \n",
      "1  0.000329  0.003028  0.004966  0.004966  0.006452  0.019357  0.011365   \n",
      "2  0.014852  0.023741  0.034462  0.034462 -0.001304 -0.003911  0.010516   \n",
      "3 -0.011626  0.006747  0.008456  0.008456  0.004827  0.014481 -0.001693   \n",
      "4  0.004494  0.004262 -0.006767 -0.006767  0.047082  0.141247  0.084729   \n",
      "5  0.030874 -0.020413 -0.013013 -0.013013 -0.002075 -0.006226  0.022950   \n",
      "6  0.003904 -0.007150  0.048135  0.048135  0.000253  0.000758  0.003787   \n",
      "7  0.009767  0.037017 -0.027486 -0.027486 -0.008705 -0.026114 -0.006563   \n",
      "8 -0.010880  0.005008 -0.000334 -0.000334  0.000557  0.001671 -0.008388   \n",
      "9 -0.001242 -0.002827  0.004160  0.004160  0.001146  0.003438  0.000902   \n",
      "\n",
      "        7         8         9    ...       411       412       413       414  \\\n",
      "0  0.002168  0.005536  0.025699  ...  0.296185  0.015126  0.005735  0.013420   \n",
      "1  0.006452  0.003028  0.065438  ...  0.007679 -0.007140  0.000981  0.034383   \n",
      "2 -0.001304  0.023741 -0.000388  ...  0.048239  0.007645  0.028228  0.004788   \n",
      "3  0.004827  0.006747  0.008800  ... -0.110144 -0.023521  0.044520 -0.010093   \n",
      "4  0.047082  0.004262 -0.001556  ... -0.021046  0.000226 -0.008816 -0.008347   \n",
      "5 -0.002075 -0.020413 -0.013674  ... -0.126778  0.003364  0.016366  0.030925   \n",
      "6  0.000253 -0.007150 -0.007398  ... -0.023977 -0.011182 -0.047386  0.003854   \n",
      "7 -0.008705  0.037017  0.034776  ... -0.003866 -0.011500 -0.030385  0.010218   \n",
      "8  0.000557  0.005008  0.002269  ... -0.121083  0.052510 -0.004098 -0.006193   \n",
      "9  0.001146 -0.002827 -0.000111  ... -0.041445  0.015520  0.003334  0.001423   \n",
      "\n",
      "        415       416       417       418       419       420  \n",
      "0  0.005735  0.018468  0.005536  0.015126  0.005536  0.060504  \n",
      "1  0.000981 -0.010075  0.003028 -0.007140  0.003028 -0.028559  \n",
      "2  0.028228  0.013752  0.023741  0.007645  0.023741  0.030581  \n",
      "3  0.044520  0.048782  0.006747 -0.023521  0.006747 -0.094084  \n",
      "4 -0.008816 -0.007710  0.004262  0.000226  0.004262  0.000905  \n",
      "5  0.016366  0.014817 -0.020413  0.003364 -0.020413  0.013457  \n",
      "6 -0.047386 -0.034908 -0.007150 -0.011182 -0.007150 -0.044729  \n",
      "7 -0.030385 -0.017779  0.037017 -0.011500  0.037017 -0.046000  \n",
      "8 -0.004098 -0.019083  0.005008  0.052510  0.005008  0.210040  \n",
      "9  0.003334  0.051532 -0.002827  0.015520 -0.002827  0.062081  \n",
      "\n",
      "[10 rows x 421 columns]\n"
     ]
    }
   ],
   "source": [
    "print(lsa_model.components_.shape) # (no_of_topics*no_of_words)\n",
    "print(pd.DataFrame(lsa_model.components_))"
   ]
  },
  {
   "cell_type": "markdown",
   "id": "093a0118",
   "metadata": {},
   "source": [
    "<h3>Hasil TruncatedSVD</h3>\n",
    "\n",
    "berikut adalah contoh 10 kata penting ditiap topik yang diproses"
   ]
  },
  {
   "cell_type": "code",
   "execution_count": 18,
   "id": "fe7bba87",
   "metadata": {},
   "outputs": [
    {
     "name": "stdout",
     "output_type": "stream",
     "text": [
      "Topic 0: \n",
      "variabel produk pembelian kualitas keputusan penelitian harga bangkalan berpengaruh ratio \n",
      "\n",
      "Topic 1: \n",
      "ratio current equity profitabilitas perusahaan return debt firm leverage risk \n",
      "\n",
      "Topic 2: \n",
      "kompensasi kompetensi kinerja finansial langsung dosen bersaing inovasi keunggulan karyawan \n",
      "\n",
      "Topic 3: \n",
      "bersaing inovasi keunggulan pemasaran pembelian kinerja lamongan optik reza keputusan \n",
      "\n",
      "Topic 4: \n",
      "portofolio saham return optimal risiko 12 astra excess kandidat beta \n",
      "\n",
      "Topic 5: \n",
      "kerja produktivitas faktor pelatihan pegawai pengembangan dinas kelautan perikanan bangkalan \n",
      "\n",
      "Topic 6: \n",
      "kompensasi finansial langsung karyawan nonfinansial pembelian fhitung keputusan signifikan bangkalan \n",
      "\n",
      "Topic 7: \n",
      "kompetensi dosen pedagogik sosial kepribadian madura profesional trunojoyo universitas kerja \n",
      "\n",
      "Topic 8: \n",
      "pelanggan jupiter kota motor sepeda yamaha harga emosional kemudahan persepsi \n",
      "\n",
      "Topic 9: \n",
      "merek cair indomilk susu perilaku psikologis konsumen kebudayaan pribadi sosial \n",
      "\n"
     ]
    },
    {
     "name": "stderr",
     "output_type": "stream",
     "text": [
      "C:\\Users\\WINDOWS\\AppData\\Local\\Programs\\Python\\Python39\\lib\\site-packages\\sklearn\\utils\\deprecation.py:87: FutureWarning: Function get_feature_names is deprecated; get_feature_names is deprecated in 1.0 and will be removed in 1.2. Please use get_feature_names_out instead.\n",
      "  warnings.warn(msg, category=FutureWarning)\n"
     ]
    }
   ],
   "source": [
    "# most important words for each topic\n",
    "vocab = vect.get_feature_names()\n",
    "\n",
    "for i, comp in enumerate(lsa_model.components_):\n",
    "    vocab_comp = zip(vocab, comp)\n",
    "    sorted_words = sorted(vocab_comp, key= lambda x:x[1], reverse=True)[:10]\n",
    "    print(\"Topic \"+str(i)+\": \")\n",
    "    for t in sorted_words:\n",
    "        print(t[0],end=\" \")\n",
    "    print(\"\\n\")"
   ]
  },
  {
   "cell_type": "markdown",
   "id": "7feae4e9",
   "metadata": {},
   "source": [
    "<p>List di atas adalah list kata tiap topik yang sering keluar disetiap dokumen</p>"
   ]
  },
  {
   "cell_type": "code",
   "execution_count": 19,
   "id": "6479f949",
   "metadata": {},
   "outputs": [],
   "source": [
    "from sklearn.decomposition import LatentDirichletAllocation\n",
    "lda_model=LatentDirichletAllocation(n_components=10,learning_method='online',random_state=42,max_iter=1) \n",
    "# n_components is the number of topics"
   ]
  },
  {
   "cell_type": "code",
   "execution_count": 20,
   "id": "162b0536",
   "metadata": {},
   "outputs": [],
   "source": [
    "lda_top=lda_model.fit_transform(vect_text)"
   ]
  },
  {
   "cell_type": "code",
   "execution_count": 76,
   "id": "0eb9bed1",
   "metadata": {},
   "outputs": [
    {
     "name": "stdout",
     "output_type": "stream",
     "text": [
      "(23, 10)\n",
      "           0         1         2         3         4         5         6  \\\n",
      "0   0.015611  0.015612  0.859497  0.015612  0.015612  0.015611  0.015612   \n",
      "1   0.021243  0.021243  0.021242  0.808818  0.021242  0.021242  0.021242   \n",
      "2   0.012286  0.012286  0.012286  0.012286  0.012286  0.889424  0.012286   \n",
      "3   0.017378  0.017378  0.017378  0.017379  0.017378  0.017378  0.017378   \n",
      "4   0.888152  0.012428  0.012427  0.012428  0.012428  0.012428  0.012428   \n",
      "5   0.015000  0.015000  0.015000  0.865002  0.015000  0.015000  0.015000   \n",
      "6   0.015486  0.015486  0.015486  0.015486  0.015486  0.015486  0.860626   \n",
      "7   0.015463  0.015463  0.015463  0.015463  0.015463  0.015466  0.015463   \n",
      "8   0.015264  0.015264  0.015263  0.015264  0.015264  0.015264  0.015264   \n",
      "9   0.014198  0.014199  0.014199  0.014199  0.872213  0.014199  0.014199   \n",
      "10  0.015601  0.015601  0.015601  0.015601  0.015601  0.015601  0.015601   \n",
      "11  0.014662  0.014662  0.014662  0.868039  0.014662  0.014662  0.014662   \n",
      "12  0.016260  0.016260  0.016260  0.853658  0.016260  0.016260  0.016260   \n",
      "13  0.017601  0.017602  0.017601  0.017602  0.017602  0.017601  0.017602   \n",
      "14  0.014100  0.014100  0.014100  0.873099  0.014100  0.014100  0.014100   \n",
      "15  0.014956  0.014956  0.014956  0.865393  0.014956  0.014956  0.014956   \n",
      "16  0.016525  0.016525  0.016525  0.016525  0.016525  0.851274  0.016525   \n",
      "17  0.016005  0.016005  0.016005  0.016005  0.016005  0.016005  0.016005   \n",
      "18  0.016682  0.016682  0.016682  0.016683  0.016682  0.016682  0.016682   \n",
      "19  0.017850  0.017850  0.017850  0.017850  0.017850  0.839350  0.017850   \n",
      "20  0.015948  0.015948  0.015948  0.015948  0.015948  0.015948  0.015948   \n",
      "21  0.016522  0.016522  0.851301  0.016522  0.016522  0.016522  0.016522   \n",
      "22  0.017453  0.017453  0.017453  0.017453  0.017453  0.017453  0.842925   \n",
      "\n",
      "           7         8         9  \n",
      "0   0.015611  0.015612  0.015611  \n",
      "1   0.021242  0.021243  0.021242  \n",
      "2   0.012286  0.012286  0.012287  \n",
      "3   0.843596  0.017378  0.017378  \n",
      "4   0.012428  0.012428  0.012427  \n",
      "5   0.015000  0.015000  0.015000  \n",
      "6   0.015486  0.015486  0.015486  \n",
      "7   0.860829  0.015463  0.015463  \n",
      "8   0.015264  0.015264  0.862627  \n",
      "9   0.014198  0.014199  0.014199  \n",
      "10  0.015602  0.859588  0.015601  \n",
      "11  0.014662  0.014662  0.014663  \n",
      "12  0.016261  0.016260  0.016260  \n",
      "13  0.017602  0.841586  0.017602  \n",
      "14  0.014100  0.014100  0.014100  \n",
      "15  0.014956  0.014956  0.014957  \n",
      "16  0.016525  0.016525  0.016525  \n",
      "17  0.855954  0.016005  0.016005  \n",
      "18  0.016682  0.849864  0.016682  \n",
      "19  0.017850  0.017850  0.017850  \n",
      "20  0.015948  0.856469  0.015948  \n",
      "21  0.016522  0.016522  0.016522  \n",
      "22  0.017453  0.017453  0.017453  \n"
     ]
    }
   ],
   "source": [
    "print(lda_top.shape)  # (no_of_doc,no_of_topics)\n",
    "print(pd.DataFrame(lda_top))"
   ]
  },
  {
   "cell_type": "code",
   "execution_count": 21,
   "id": "84e59ef9",
   "metadata": {},
   "outputs": [
    {
     "name": "stdout",
     "output_type": "stream",
     "text": [
      "1.0\n"
     ]
    }
   ],
   "source": [
    "sum=0\n",
    "for i in lda_top[0]:\n",
    "  sum=sum+i\n",
    "print(sum)"
   ]
  },
  {
   "cell_type": "code",
   "execution_count": 22,
   "id": "64e8423a",
   "metadata": {},
   "outputs": [
    {
     "name": "stdout",
     "output_type": "stream",
     "text": [
      "Document 0: \n",
      "Topic  0 :  1.2180583846320605 %\n",
      "Topic  1 :  89.03734000994635 %\n",
      "Topic  2 :  1.2180595605915174 %\n",
      "Topic  3 :  1.2180611408502517 %\n",
      "Topic  4 :  1.218055728186197 %\n",
      "Topic  5 :  1.2181762905938747 %\n",
      "Topic  6 :  1.2180693701042924 %\n",
      "Topic  7 :  1.218072821055685 %\n",
      "Topic  8 :  1.2180583360145725 %\n",
      "Topic  9 :  1.2180483580252122 %\n"
     ]
    }
   ],
   "source": [
    "# composition of doc 0 for eg\n",
    "print(\"Document 0: \")\n",
    "for i,topic in enumerate(lda_top[0]):\n",
    "  print(\"Topic \",i,\": \",topic*100,\"%\")"
   ]
  },
  {
   "cell_type": "code",
   "execution_count": 23,
   "id": "fd92c9fa",
   "metadata": {},
   "outputs": [
    {
     "name": "stdout",
     "output_type": "stream",
     "text": [
      "        0         1         2         3         4         5         6    \\\n",
      "0  0.870311  0.818130  0.810440  0.810441  0.973550  0.920631  0.807466   \n",
      "1  0.821803  0.795561  0.772855  0.849641  0.752429  0.915776  0.874597   \n",
      "2  0.972601  0.861776  0.930405  0.780792  0.767227  0.883093  0.759355   \n",
      "3  0.941397  0.686992  0.913898  0.679626  0.903965  0.830465  0.754287   \n",
      "4  0.890249  0.852976  0.819382  0.836910  0.958775  0.879186  0.754440   \n",
      "5  0.872374  0.855707  0.843028  0.665067  0.843884  0.782653  0.856323   \n",
      "6  0.863948  0.783278  0.861839  0.754010  0.900878  0.973278  0.665583   \n",
      "7  0.788829  0.983036  0.837872  1.100073  0.745237  0.879025  0.909603   \n",
      "8  0.886281  0.666698  0.971100  0.880959  0.750905  0.968386  1.001993   \n",
      "9  0.805948  0.951437  0.852648  0.917449  0.822740  0.876330  0.920757   \n",
      "\n",
      "        7         8         9    ...       411       412       413       414  \\\n",
      "0  0.883297  0.849111  0.683661  ...  0.933534  0.671733  0.989840  0.785858   \n",
      "1  0.850273  0.921045  0.696812  ...  0.970671  0.831033  0.849012  1.065752   \n",
      "2  0.794300  0.977775  0.797286  ...  0.829249  0.731953  0.879389  0.791734   \n",
      "3  0.796701  0.886320  1.000615  ...  0.787108  0.746504  0.858266  0.783869   \n",
      "4  0.835613  0.856744  0.816763  ...  0.766850  0.870324  0.919310  0.900990   \n",
      "5  0.935350  0.793451  0.837733  ...  0.855833  0.938083  0.899942  0.871767   \n",
      "6  0.736152  0.753918  0.724367  ...  0.925917  0.853251  0.893514  0.927178   \n",
      "7  0.746544  0.808620  0.721019  ...  0.779899  0.896837  0.819347  0.879225   \n",
      "8  0.861630  0.766287  0.832633  ...  0.811755  0.810148  0.867772  0.924879   \n",
      "9  0.789447  0.930452  0.769407  ...  0.824194  0.799850  0.908757  0.804715   \n",
      "\n",
      "        415       416       417       418       419       420  \n",
      "0  0.876982  0.851355  0.841571  0.854556  0.698219  0.843259  \n",
      "1  0.892028  0.860650  0.827413  0.733901  0.821750  0.762186  \n",
      "2  0.851086  1.012034  0.809412  0.891247  0.814679  0.777711  \n",
      "3  0.683734  0.823745  0.905582  0.837923  0.874241  0.845638  \n",
      "4  0.763898  0.905223  0.819434  0.799585  0.724697  0.772647  \n",
      "5  0.792432  0.892303  0.736127  0.852734  0.826553  0.706585  \n",
      "6  0.788911  0.838038  0.744846  0.870672  0.870946  0.900160  \n",
      "7  0.765101  1.012552  0.945544  0.839571  0.857058  0.782160  \n",
      "8  0.924334  0.929918  0.817439  0.809224  0.738486  0.953931  \n",
      "9  0.821588  0.978080  0.660294  0.845275  0.811133  0.853538  \n",
      "\n",
      "[10 rows x 421 columns]\n",
      "(10, 421)\n"
     ]
    }
   ],
   "source": [
    "print(pd.DataFrame(lda_model.components_))\n",
    "print(lda_model.components_.shape)  # (no_of_topics*no_of_words)"
   ]
  },
  {
   "cell_type": "code",
   "execution_count": 24,
   "id": "ef85dd38",
   "metadata": {},
   "outputs": [
    {
     "name": "stdout",
     "output_type": "stream",
     "text": [
      "Topic 0: \n",
      "fenomenologi return sukses fleksibilitas bertujuan manusia recovery manakah indomilk metode \n",
      "\n",
      "Topic 1: \n",
      "produktivitas pelatihan versi debt langsung memakai tercapai kompetensi kelautan distribusi \n",
      "\n",
      "Topic 2: \n",
      "diperoleh 377 serviscape kandidat wawancara terbukti model bimbingan 417 mt \n",
      "\n",
      "Topic 3: \n",
      "skala instansi koefisiensi kelautan ftabel kepuasan hasil 2008 pedagogik pasien \n",
      "\n",
      "Topic 4: \n",
      "universitas pembelian keputusan positivisme dominan tercapai responden upaya moch membentuk \n",
      "\n",
      "Topic 5: \n",
      "pengaruh 2011 serviscape expected reputasi garam pelanggan partisipasi diolah universitas \n",
      "\n",
      "Topic 6: \n",
      "pengujian masuk kecamatan persepsi primer pengembangan ftabel rm perusahaan surabaya \n",
      "\n",
      "Topic 7: \n",
      "05 multi random kepuasan finansial wawancara probality 494 produktivitas langsung \n",
      "\n",
      "Topic 8: \n",
      "likuiditas aktiva international pengembangan komposisi fhitung 973 540 reliabilitas membentuk \n",
      "\n",
      "Topic 9: \n",
      "dibentuk firm lestari bimbingan penjualan besarnya reputasi indomilk 549 klasik \n",
      "\n"
     ]
    },
    {
     "name": "stderr",
     "output_type": "stream",
     "text": [
      "C:\\Users\\WINDOWS\\AppData\\Local\\Programs\\Python\\Python39\\lib\\site-packages\\sklearn\\utils\\deprecation.py:87: FutureWarning: Function get_feature_names is deprecated; get_feature_names is deprecated in 1.0 and will be removed in 1.2. Please use get_feature_names_out instead.\n",
      "  warnings.warn(msg, category=FutureWarning)\n"
     ]
    }
   ],
   "source": [
    "# most important words for each topic\n",
    "vocab = vect.get_feature_names()\n",
    "\n",
    "for i, comp in enumerate(lda_model.components_):\n",
    "    vocab_comp = zip(vocab, comp)\n",
    "    sorted_words = sorted(vocab_comp, key= lambda x:x[1], reverse=True)[:10]\n",
    "    print(\"Topic \"+str(i)+\": \")\n",
    "    for t in sorted_words:\n",
    "        print(t[0],end=\" \")\n",
    "    print(\"\\n\")"
   ]
  }
 ],
 "metadata": {
  "kernelspec": {
   "display_name": "Python 3 (ipykernel)",
   "language": "python",
   "name": "python3"
  },
  "language_info": {
   "codemirror_mode": {
    "name": "ipython",
    "version": 3
   },
   "file_extension": ".py",
   "mimetype": "text/x-python",
   "name": "python",
   "nbconvert_exporter": "python",
   "pygments_lexer": "ipython3",
   "version": "3.9.7"
  },
  "vscode": {
   "interpreter": {
    "hash": "27f6fea6f47ae512550f0b8facdbd035a93e1dd89633f7bf2dd00a2502c71d0d"
   }
  }
 },
 "nbformat": 4,
 "nbformat_minor": 5
}
