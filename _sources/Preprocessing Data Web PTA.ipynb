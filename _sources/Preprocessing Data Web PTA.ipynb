{
 "cells": [
  {
   "cell_type": "markdown",
   "id": "566da7bd",
   "metadata": {},
   "source": [
    "# Preprocessing Data"
   ]
  },
  {
   "cell_type": "markdown",
   "id": "d371d63f",
   "metadata": {},
   "source": [
    "## Install Library"
   ]
  },
  {
   "cell_type": "markdown",
   "id": "e1db3d77",
   "metadata": {},
   "source": [
    "Dibawah ini dicantumkan beberapa library yang dibutuhkan untuk melakukan processing data menggunakan jupyter notebook, anda juga bisa melakukan instalasi ini dengan menggunakan Command Prompt untuk pengguna Windows atau Terminal untuk pengguna Linux\n",
    "\n",
    "- pip install numpy\n",
    "- pip install sklearn\n",
    "- pip install pandas\n",
    "- pip install matplotlib\n",
    "- pip install seaborn\n",
    "- pip install nltk"
   ]
  },
  {
   "cell_type": "markdown",
   "id": "0337d2e3",
   "metadata": {},
   "source": [
    "## Import Library\n",
    "\n",
    "Untuk library yang digunakan diantaranya ada numpy, pandas, matplotlib, seaborn, nltk, dan sklearn, library ini umum digunakan pada data processing"
   ]
  },
  {
   "cell_type": "code",
   "execution_count": 1,
   "id": "ffb8afc7",
   "metadata": {},
   "outputs": [],
   "source": [
    "# data visualisation and manipulation\n",
    "import numpy as np\n",
    "import pandas as pd\n",
    "import matplotlib.pyplot as plt\n",
    "from matplotlib import style\n",
    "import seaborn as sns\n",
    "#configure\n",
    "# sets matplotlib to inline and displays graphs below the corressponding cell.\n",
    "%matplotlib inline  \n",
    "style.use('fivethirtyeight')\n",
    "sns.set(style='whitegrid',color_codes=True)\n",
    "\n",
    "#import nltk\n",
    "import nltk\n",
    "from nltk.corpus import stopwords\n",
    "from nltk.tokenize import word_tokenize,sent_tokenize\n",
    "\n",
    "#preprocessing\n",
    "from nltk.corpus import stopwords  #stopwords\n",
    "from nltk import word_tokenize,sent_tokenize # tokenizing\n",
    "from nltk.stem import PorterStemmer,LancasterStemmer  # using the Porter Stemmer and Lancaster Stemmer and others\n",
    "from nltk.stem.snowball import SnowballStemmer\n",
    "from nltk.stem import WordNetLemmatizer  # lammatizer from WordNet\n",
    "\n",
    "# for named entity recognition (NER)\n",
    "from nltk import ne_chunk\n",
    "\n",
    "# vectorizers for creating the document-term-matrix (DTM)\n",
    "from sklearn.feature_extraction.text import TfidfVectorizer,CountVectorizer\n",
    "\n",
    "\n",
    "#stop-words\n",
    "stop_words=set(nltk.corpus.stopwords.words('indonesian'))"
   ]
  },
  {
   "cell_type": "markdown",
   "id": "305e9cc3",
   "metadata": {},
   "source": [
    "## Instalasi Library Tambahan\n",
    "\n",
    "Di bawah ini ada library tambahan yang harus di-install untuk memproses kata-kata yang diolah"
   ]
  },
  {
   "cell_type": "code",
   "execution_count": 2,
   "id": "57a53c5b",
   "metadata": {},
   "outputs": [
    {
     "name": "stderr",
     "output_type": "stream",
     "text": [
      "[nltk_data] Error loading corpus: Package 'corpus' not found in index\n",
      "[nltk_data] Downloading package stopwords to\n",
      "[nltk_data]     C:\\Users\\WINDOWS\\AppData\\Roaming\\nltk_data...\n",
      "[nltk_data]   Package stopwords is already up-to-date!\n",
      "[nltk_data] Downloading package punkt to\n",
      "[nltk_data]     C:\\Users\\WINDOWS\\AppData\\Roaming\\nltk_data...\n",
      "[nltk_data]   Package punkt is already up-to-date!\n"
     ]
    },
    {
     "data": {
      "text/plain": [
       "True"
      ]
     },
     "execution_count": 2,
     "metadata": {},
     "output_type": "execute_result"
    }
   ],
   "source": [
    "nltk.download('corpus')\n",
    "nltk.download('stopwords')\n",
    "nltk.download('punkt')"
   ]
  },
  {
   "cell_type": "markdown",
   "id": "894d4e4f",
   "metadata": {},
   "source": [
    "## Import Dokumen\n",
    "<p>Import dokumen yang sudah dicrawling dengan crawler, bisa menggunakan referensi dari web ini atau bisa menggunakan referensi kode dari website lain</p>"
   ]
  },
  {
   "cell_type": "code",
   "execution_count": 3,
   "id": "0fdb1e29",
   "metadata": {},
   "outputs": [],
   "source": [
    "df=pd.read_csv(r'abstrak_pta_manajemen.csv')"
   ]
  },
  {
   "cell_type": "markdown",
   "id": "fecc2fda",
   "metadata": {},
   "source": [
    "<h2>Tampilan dari 10 data yang diproses</h2>"
   ]
  },
  {
   "cell_type": "code",
   "execution_count": 4,
   "id": "5c214def",
   "metadata": {},
   "outputs": [
    {
     "data": {
      "text/html": [
       "<div>\n",
       "<style scoped>\n",
       "    .dataframe tbody tr th:only-of-type {\n",
       "        vertical-align: middle;\n",
       "    }\n",
       "\n",
       "    .dataframe tbody tr th {\n",
       "        vertical-align: top;\n",
       "    }\n",
       "\n",
       "    .dataframe thead th {\n",
       "        text-align: right;\n",
       "    }\n",
       "</style>\n",
       "<table border=\"1\" class=\"dataframe\">\n",
       "  <thead>\n",
       "    <tr style=\"text-align: right;\">\n",
       "      <th></th>\n",
       "      <th>Judul</th>\n",
       "      <th>Penulis</th>\n",
       "      <th>Dosbing_1</th>\n",
       "      <th>Dosbing_2</th>\n",
       "      <th>Abstrak_indo</th>\n",
       "    </tr>\n",
       "  </thead>\n",
       "  <tbody>\n",
       "    <tr>\n",
       "      <th>0</th>\n",
       "      <td>PENGARUH FAKTOR-FAKTOR PELATIHAN DAN PENGEMBAN...</td>\n",
       "      <td>SATIYAH</td>\n",
       "      <td>Dra. Hj. S. Anugrahini Irawati, MM</td>\n",
       "      <td>elmi Buyung Aulia,S,ST.SE,M.MT</td>\n",
       "      <td>ABSTRAK\\r\\...</td>\n",
       "    </tr>\n",
       "    <tr>\n",
       "      <th>1</th>\n",
       "      <td>PENGARUH STRUKTUR MODAL DAN LIKUIDITAS TERHADA...</td>\n",
       "      <td>AHMAD ZAINI ALI</td>\n",
       "      <td>R. GATOT HERU PRANJOTO, SE., MM</td>\n",
       "      <td>URNAMAWATI, SE., MSi</td>\n",
       "      <td>Pendekatan penelitian yang digunakan dalam pen...</td>\n",
       "    </tr>\n",
       "    <tr>\n",
       "      <th>2</th>\n",
       "      <td>Analisis Inovasi Dan Keunggulan Bersaing \\r\\nD...</td>\n",
       "      <td>Sandy Ardiansyah</td>\n",
       "      <td>Dr. Ir. Nurita Andriani, MM.</td>\n",
       "      <td>uyono, S.E., M. S. M.</td>\n",
       "      <td>ABSTRAK\\r\\n\\tTujuan penelitian ini adalah mend...</td>\n",
       "    </tr>\n",
       "    <tr>\n",
       "      <th>3</th>\n",
       "      <td>analisis faktor-faktor yang berpengaruh terhad...</td>\n",
       "      <td>Jailani</td>\n",
       "      <td>Hj. Evaliati amaniyah, SE., M.SM</td>\n",
       "      <td>urnamawati, SE., M.Si</td>\n",
       "      <td>ABSTRAK\\r\\nTujuan penelitian ini adalah untuk ...</td>\n",
       "    </tr>\n",
       "    <tr>\n",
       "      <th>4</th>\n",
       "      <td>PENGARUH KOMPETENSI DOSEN TERHADAP KINERJA DOS...</td>\n",
       "      <td>Aththaariq</td>\n",
       "      <td>Dr.RM Moch Wispandono,.S.E,.MS</td>\n",
       "      <td>r. Muhammad Alkirom Wildan,S.E.,M.Si.</td>\n",
       "      <td>Abstrak\\r\\n\\r\\nAththaariq, Pengaruh Kompetensi...</td>\n",
       "    </tr>\n",
       "    <tr>\n",
       "      <th>5</th>\n",
       "      <td>Pengaruh Kompensasi Terhadap Kinerja Karywan p...</td>\n",
       "      <td>agustin pratiwi</td>\n",
       "      <td>Drs.Ec. Mudji Kuswinarno.M.Si.</td>\n",
       "      <td>aidal. S.E, MM.</td>\n",
       "      <td>ABSTRAK \\r\\n\\r\\n\\tTujuan penelitian ini adalah...</td>\n",
       "    </tr>\n",
       "    <tr>\n",
       "      <th>6</th>\n",
       "      <td>ANALISIS PORTOFOLIO YANG OPTIMAL DI BEI DENGAN...</td>\n",
       "      <td>Mira Dwiastuti</td>\n",
       "      <td>Hj Evaliati Amaniyah, S.E, M.S.M</td>\n",
       "      <td>chsan Gani, S.E, M.Si</td>\n",
       "      <td>Suatu keputusan investasi selalu berhubungan d...</td>\n",
       "    </tr>\n",
       "    <tr>\n",
       "      <th>7</th>\n",
       "      <td>Pengaruh Bauran Pemasaran Terhadap Keputusan P...</td>\n",
       "      <td>Mahrus Saleh</td>\n",
       "      <td>Dr.H Pribanus Wantara, Drs, MM</td>\n",
       "      <td>adi Purnomo, SE., MM</td>\n",
       "      <td>Objek penelitian ini adalah pembelian produk X...</td>\n",
       "    </tr>\n",
       "    <tr>\n",
       "      <th>8</th>\n",
       "      <td>PENGARUH HARGA DAN KUALITAS PRODUK TERHADAP KE...</td>\n",
       "      <td>Irnita Agustin Putri</td>\n",
       "      <td>Dr. Drs. Ec H. Muh Syarif, M.Si</td>\n",
       "      <td>adi Purnomo, S.E., MM</td>\n",
       "      <td>ABSTRAK \\r\\nTujuan penelitian ini adalah (1) U...</td>\n",
       "    </tr>\n",
       "    <tr>\n",
       "      <th>9</th>\n",
       "      <td>PENGARUH PERSEPSI NILAI TERHADAP KEPUASAN PELA...</td>\n",
       "      <td>Hasan Basri</td>\n",
       "      <td>Dr. Nurita Andriani, Ir., MM</td>\n",
       "      <td>ustina Chrismardani, S.Si., MM</td>\n",
       "      <td>Tujuan penelitian ini adalah untuk mengetahui ...</td>\n",
       "    </tr>\n",
       "    <tr>\n",
       "      <th>10</th>\n",
       "      <td>PENGARUH PERILAKU KONSUMEN TERHADAP KEPUTUSAN ...</td>\n",
       "      <td>Bany Azhar</td>\n",
       "      <td>dr.drs.Ec.H.Muh.Syarif,Msi</td>\n",
       "      <td>adi Purnomo, SE., MM</td>\n",
       "      <td>ABSTRAK\\r\\nTujuan penelitian ini adalah untuk ...</td>\n",
       "    </tr>\n",
       "    <tr>\n",
       "      <th>11</th>\n",
       "      <td>PENGARUH KUALITAS PELAYANAN TERHADAP KEPUASAN ...</td>\n",
       "      <td>Annisa Lupita Rachmi Widhiastuti</td>\n",
       "      <td>Dr. H. Muh. Syarif. Drs Ec., MM</td>\n",
       "      <td>ustina Chrismardani. S.Si., MM</td>\n",
       "      <td>ABSTRAK\\r\\n\\r\\nTujuan penelitian ini adalah un...</td>\n",
       "    </tr>\n",
       "  </tbody>\n",
       "</table>\n",
       "</div>"
      ],
      "text/plain": [
       "                                                Judul  \\\n",
       "0   PENGARUH FAKTOR-FAKTOR PELATIHAN DAN PENGEMBAN...   \n",
       "1   PENGARUH STRUKTUR MODAL DAN LIKUIDITAS TERHADA...   \n",
       "2   Analisis Inovasi Dan Keunggulan Bersaing \\r\\nD...   \n",
       "3   analisis faktor-faktor yang berpengaruh terhad...   \n",
       "4   PENGARUH KOMPETENSI DOSEN TERHADAP KINERJA DOS...   \n",
       "5   Pengaruh Kompensasi Terhadap Kinerja Karywan p...   \n",
       "6   ANALISIS PORTOFOLIO YANG OPTIMAL DI BEI DENGAN...   \n",
       "7   Pengaruh Bauran Pemasaran Terhadap Keputusan P...   \n",
       "8   PENGARUH HARGA DAN KUALITAS PRODUK TERHADAP KE...   \n",
       "9   PENGARUH PERSEPSI NILAI TERHADAP KEPUASAN PELA...   \n",
       "10  PENGARUH PERILAKU KONSUMEN TERHADAP KEPUTUSAN ...   \n",
       "11  PENGARUH KUALITAS PELAYANAN TERHADAP KEPUASAN ...   \n",
       "\n",
       "                             Penulis                           Dosbing_1  \\\n",
       "0                            SATIYAH  Dra. Hj. S. Anugrahini Irawati, MM   \n",
       "1                    AHMAD ZAINI ALI     R. GATOT HERU PRANJOTO, SE., MM   \n",
       "2                   Sandy Ardiansyah        Dr. Ir. Nurita Andriani, MM.   \n",
       "3                            Jailani    Hj. Evaliati amaniyah, SE., M.SM   \n",
       "4                         Aththaariq      Dr.RM Moch Wispandono,.S.E,.MS   \n",
       "5                    agustin pratiwi     Drs.Ec. Mudji Kuswinarno.M.Si.    \n",
       "6                     Mira Dwiastuti    Hj Evaliati Amaniyah, S.E, M.S.M   \n",
       "7                       Mahrus Saleh      Dr.H Pribanus Wantara, Drs, MM   \n",
       "8               Irnita Agustin Putri     Dr. Drs. Ec H. Muh Syarif, M.Si   \n",
       "9                        Hasan Basri        Dr. Nurita Andriani, Ir., MM   \n",
       "10                        Bany Azhar          dr.drs.Ec.H.Muh.Syarif,Msi   \n",
       "11  Annisa Lupita Rachmi Widhiastuti     Dr. H. Muh. Syarif. Drs Ec., MM   \n",
       "\n",
       "                                Dosbing_2  \\\n",
       "0          elmi Buyung Aulia,S,ST.SE,M.MT   \n",
       "1                    URNAMAWATI, SE., MSi   \n",
       "2                   uyono, S.E., M. S. M.   \n",
       "3                   urnamawati, SE., M.Si   \n",
       "4   r. Muhammad Alkirom Wildan,S.E.,M.Si.   \n",
       "5                         aidal. S.E, MM.   \n",
       "6                   chsan Gani, S.E, M.Si   \n",
       "7                    adi Purnomo, SE., MM   \n",
       "8                   adi Purnomo, S.E., MM   \n",
       "9          ustina Chrismardani, S.Si., MM   \n",
       "10                   adi Purnomo, SE., MM   \n",
       "11         ustina Chrismardani. S.Si., MM   \n",
       "\n",
       "                                         Abstrak_indo  \n",
       "0                                       ABSTRAK\\r\\...  \n",
       "1   Pendekatan penelitian yang digunakan dalam pen...  \n",
       "2   ABSTRAK\\r\\n\\tTujuan penelitian ini adalah mend...  \n",
       "3   ABSTRAK\\r\\nTujuan penelitian ini adalah untuk ...  \n",
       "4   Abstrak\\r\\n\\r\\nAththaariq, Pengaruh Kompetensi...  \n",
       "5   ABSTRAK \\r\\n\\r\\n\\tTujuan penelitian ini adalah...  \n",
       "6   Suatu keputusan investasi selalu berhubungan d...  \n",
       "7   Objek penelitian ini adalah pembelian produk X...  \n",
       "8   ABSTRAK \\r\\nTujuan penelitian ini adalah (1) U...  \n",
       "9   Tujuan penelitian ini adalah untuk mengetahui ...  \n",
       "10  ABSTRAK\\r\\nTujuan penelitian ini adalah untuk ...  \n",
       "11  ABSTRAK\\r\\n\\r\\nTujuan penelitian ini adalah un...  "
      ]
     },
     "execution_count": 4,
     "metadata": {},
     "output_type": "execute_result"
    }
   ],
   "source": [
    "df.head(20)"
   ]
  },
  {
   "cell_type": "markdown",
   "id": "d42fbc74",
   "metadata": {},
   "source": [
    "## Pembersihan Dokumen\n",
    "\n",
    "<p>Pembersihan dokumen dilakukan agar dalam proses TF/IDF tidak ada simbol-simbol yang ikut masuk ke dalam proses tersebut yang dapat mengakibatkan dokumen menjadi kurang otentik</p>"
   ]
  },
  {
   "cell_type": "code",
   "execution_count": 5,
   "id": "49854d08",
   "metadata": {},
   "outputs": [],
   "source": [
    "def clean_text(headline):\n",
    "    le=WordNetLemmatizer()\n",
    "    word_tokens=word_tokenize(headline)\n",
    "    tokens=[le.lemmatize(w) for w in word_tokens if w not in stop_words and len(w)>3]\n",
    "    cleaned_text=\" \".join(tokens)\n",
    "    return cleaned_text"
   ]
  },
  {
   "cell_type": "code",
   "execution_count": 6,
   "id": "9afcebd4",
   "metadata": {},
   "outputs": [],
   "source": [
    "# time taking\n",
    "df['abstrak_cleaned']=df['Abstrak_indo'].apply(clean_text)"
   ]
  },
  {
   "cell_type": "markdown",
   "id": "d7748147",
   "metadata": {},
   "source": [
    "<h3>Perbandingan data yang belum dan sudah dibersihkan</h3>"
   ]
  },
  {
   "cell_type": "code",
   "execution_count": 8,
   "id": "86bd4199",
   "metadata": {},
   "outputs": [
    {
     "data": {
      "text/html": [
       "<div>\n",
       "<style scoped>\n",
       "    .dataframe tbody tr th:only-of-type {\n",
       "        vertical-align: middle;\n",
       "    }\n",
       "\n",
       "    .dataframe tbody tr th {\n",
       "        vertical-align: top;\n",
       "    }\n",
       "\n",
       "    .dataframe thead th {\n",
       "        text-align: right;\n",
       "    }\n",
       "</style>\n",
       "<table border=\"1\" class=\"dataframe\">\n",
       "  <thead>\n",
       "    <tr style=\"text-align: right;\">\n",
       "      <th></th>\n",
       "      <th>Judul</th>\n",
       "      <th>Penulis</th>\n",
       "      <th>Dosbing_1</th>\n",
       "      <th>Dosbing_2</th>\n",
       "      <th>Abstrak_indo</th>\n",
       "      <th>abstrak_cleaned</th>\n",
       "    </tr>\n",
       "  </thead>\n",
       "  <tbody>\n",
       "    <tr>\n",
       "      <th>0</th>\n",
       "      <td>PENGARUH FAKTOR-FAKTOR PELATIHAN DAN PENGEMBAN...</td>\n",
       "      <td>SATIYAH</td>\n",
       "      <td>Dra. Hj. S. Anugrahini Irawati, MM</td>\n",
       "      <td>elmi Buyung Aulia,S,ST.SE,M.MT</td>\n",
       "      <td>ABSTRAK\\r\\...</td>\n",
       "      <td>ABSTRAK Satiyah Pengaruh Faktor-faktor Pelatih...</td>\n",
       "    </tr>\n",
       "    <tr>\n",
       "      <th>1</th>\n",
       "      <td>PENGARUH STRUKTUR MODAL DAN LIKUIDITAS TERHADA...</td>\n",
       "      <td>AHMAD ZAINI ALI</td>\n",
       "      <td>R. GATOT HERU PRANJOTO, SE., MM</td>\n",
       "      <td>URNAMAWATI, SE., MSi</td>\n",
       "      <td>Pendekatan penelitian yang digunakan dalam pen...</td>\n",
       "      <td>Pendekatan penelitian penelitian pendekatan ku...</td>\n",
       "    </tr>\n",
       "    <tr>\n",
       "      <th>2</th>\n",
       "      <td>Analisis Inovasi Dan Keunggulan Bersaing \\r\\nD...</td>\n",
       "      <td>Sandy Ardiansyah</td>\n",
       "      <td>Dr. Ir. Nurita Andriani, MM.</td>\n",
       "      <td>uyono, S.E., M. S. M.</td>\n",
       "      <td>ABSTRAK\\r\\n\\tTujuan penelitian ini adalah mend...</td>\n",
       "      <td>ABSTRAK Tujuan penelitian mendeskripsikan inov...</td>\n",
       "    </tr>\n",
       "    <tr>\n",
       "      <th>3</th>\n",
       "      <td>analisis faktor-faktor yang berpengaruh terhad...</td>\n",
       "      <td>Jailani</td>\n",
       "      <td>Hj. Evaliati amaniyah, SE., M.SM</td>\n",
       "      <td>urnamawati, SE., M.Si</td>\n",
       "      <td>ABSTRAK\\r\\nTujuan penelitian ini adalah untuk ...</td>\n",
       "      <td>ABSTRAK Tujuan penelitian pengaruh variabel cu...</td>\n",
       "    </tr>\n",
       "    <tr>\n",
       "      <th>4</th>\n",
       "      <td>PENGARUH KOMPETENSI DOSEN TERHADAP KINERJA DOS...</td>\n",
       "      <td>Aththaariq</td>\n",
       "      <td>Dr.RM Moch Wispandono,.S.E,.MS</td>\n",
       "      <td>r. Muhammad Alkirom Wildan,S.E.,M.Si.</td>\n",
       "      <td>Abstrak\\r\\n\\r\\nAththaariq, Pengaruh Kompetensi...</td>\n",
       "      <td>Abstrak Aththaariq Pengaruh Kompetensi Dosen T...</td>\n",
       "    </tr>\n",
       "  </tbody>\n",
       "</table>\n",
       "</div>"
      ],
      "text/plain": [
       "                                               Judul           Penulis  \\\n",
       "0  PENGARUH FAKTOR-FAKTOR PELATIHAN DAN PENGEMBAN...           SATIYAH   \n",
       "1  PENGARUH STRUKTUR MODAL DAN LIKUIDITAS TERHADA...   AHMAD ZAINI ALI   \n",
       "2  Analisis Inovasi Dan Keunggulan Bersaing \\r\\nD...  Sandy Ardiansyah   \n",
       "3  analisis faktor-faktor yang berpengaruh terhad...           Jailani   \n",
       "4  PENGARUH KOMPETENSI DOSEN TERHADAP KINERJA DOS...        Aththaariq   \n",
       "\n",
       "                            Dosbing_1                              Dosbing_2  \\\n",
       "0  Dra. Hj. S. Anugrahini Irawati, MM         elmi Buyung Aulia,S,ST.SE,M.MT   \n",
       "1     R. GATOT HERU PRANJOTO, SE., MM                   URNAMAWATI, SE., MSi   \n",
       "2        Dr. Ir. Nurita Andriani, MM.                  uyono, S.E., M. S. M.   \n",
       "3    Hj. Evaliati amaniyah, SE., M.SM                  urnamawati, SE., M.Si   \n",
       "4      Dr.RM Moch Wispandono,.S.E,.MS  r. Muhammad Alkirom Wildan,S.E.,M.Si.   \n",
       "\n",
       "                                        Abstrak_indo  \\\n",
       "0                                      ABSTRAK\\r\\...   \n",
       "1  Pendekatan penelitian yang digunakan dalam pen...   \n",
       "2  ABSTRAK\\r\\n\\tTujuan penelitian ini adalah mend...   \n",
       "3  ABSTRAK\\r\\nTujuan penelitian ini adalah untuk ...   \n",
       "4  Abstrak\\r\\n\\r\\nAththaariq, Pengaruh Kompetensi...   \n",
       "\n",
       "                                     abstrak_cleaned  \n",
       "0  ABSTRAK Satiyah Pengaruh Faktor-faktor Pelatih...  \n",
       "1  Pendekatan penelitian penelitian pendekatan ku...  \n",
       "2  ABSTRAK Tujuan penelitian mendeskripsikan inov...  \n",
       "3  ABSTRAK Tujuan penelitian pengaruh variabel cu...  \n",
       "4  Abstrak Aththaariq Pengaruh Kompetensi Dosen T...  "
      ]
     },
     "execution_count": 8,
     "metadata": {},
     "output_type": "execute_result"
    }
   ],
   "source": [
    "df.head()"
   ]
  },
  {
   "cell_type": "markdown",
   "id": "0d26d9a0",
   "metadata": {},
   "source": [
    "Drop kolom Dosbing_1, Dosbing_2, dan Abstrak_indo"
   ]
  },
  {
   "cell_type": "code",
   "execution_count": 9,
   "id": "35267224",
   "metadata": {},
   "outputs": [],
   "source": [
    "df.drop(['Dosbing_1','Dosbing_2','Abstrak_indo'],axis=1,inplace=True)"
   ]
  },
  {
   "cell_type": "code",
   "execution_count": 10,
   "id": "e239ac2a",
   "metadata": {},
   "outputs": [
    {
     "data": {
      "text/plain": [
       "'ABSTRAK Satiyah Pengaruh Faktor-faktor Pelatihan Pengembangan Terhadap Produktivitas Kerja Dinas Kelautan Perikanan Bangkalan Dibawah bimbingan Dra.Hj.S.Anugrahini Irawati Helmi Buyung Aulia ST.SE M.MT Dalam upaya meningkatkan produktivitas kerja mudah salah usaha produktivitas meningkat menerapkan program pelatihan pengembangan sumber daya manusia dilaksanakan instansi produktivitas tercapai meningkat kemampuan pegawai efektif efisien Dengan pelatihan pengembnagan diharapkan pegawai menyesuaikan kebutuhan-kebutuhan sikap tingkah laku keterampilan pengetahuan sesuai tuntutan perubahan Dengan pelatihan pengembangan pegawai mendukung terciptanya suasana kerja kondusif instansi produktivitasi kerja meningkat Tujuan penelitian Pengaruh Faktor-faktor Pelatihan Pengembangan Terhadap Produktivitas Kerja Dinas Kelautan Perikanan Bangkalan Untuk mengukur menganalisa hubungan variabel peneliti pendekatan observasional analitik pengamatan langsung responden penyebaran kuisioner dianalisis Penelitian penelitian populasi responden sampel diolah SPSS Versi 13.00 dianalisis metode statistik metode probality sampling simple random sampling Kesimpulan penelitian Faktor-faktor pelatihan pengembangan perbedaan individu pegawai hubungan analisis jabatan motivasi partisipasi aktif seleksi peserta seleksi instruktur metode pelatihan pengembangan pengaruh simultan produktivitas kerja pegawai Dinas Kelautan Perikanan Kabupaten Bangkalan Terbukti nilai koefisien determinasi berganda square 0,751 Fhitung 9,500 Ftabel 2,37 Faktor hubungan analisis jabatan berpengaruh parsial produktivitas kerja pegawai Dinas Kelautan Perikanan Kabupaten Bangkalan Pengujian Hipotesis variabel motivasi terbukti nilai thitung Sebesar 6,442 seleksi peserta pengaruh dominan produktivitas kerja pegawai instansi Dinas Kelautan Perikanan Bangkalan Kata kunci Dinas Kelautan Perikanan Faktor-faktor Pelatihan Pengembangan Produktivitas Kerja'"
      ]
     },
     "execution_count": 10,
     "metadata": {},
     "output_type": "execute_result"
    }
   ],
   "source": [
    "df['abstrak_cleaned'][0]"
   ]
  },
  {
   "cell_type": "markdown",
   "id": "0955beeb",
   "metadata": {},
   "source": [
    "## Term Frequency\n",
    "\n",
    "<p>Data di atas adalah data yang sudah diproses menggunakan TF-IDF untuk menentukan Term Frequency tiap topik. TF-IDF (Term Frequency - Inverse Document Frequency) adalah algoritma praktis yang menggunakan frekuensi kata untuk menentukan seberapa relevan kata-kata itu dengan dokumen tertentu. Ini adalah pendekatan yang relatif sederhana namun intuitif untuk pembobotan kata, memungkinkannya bertindak sebagai titik awal yang bagus untuk berbagai tugas.</p>\n",
    "<h3>Rumus TF-IDF</h3>\n",
    "\n",
    "$$\n",
    "\\operatorname{tf}(t, d)=\\frac{f_{t, d}}{\\sum_{t^{\\prime} \\in d} f_{t^{\\prime}, d}}\n",
    "$$\n",
    "\n",
    "<p></p>"
   ]
  },
  {
   "cell_type": "code",
   "execution_count": 11,
   "id": "bf19e671",
   "metadata": {},
   "outputs": [],
   "source": [
    "vect =TfidfVectorizer(stop_words=stop_words,max_features=1000) # to play with. min_df,max_df,max_features etc..."
   ]
  },
  {
   "cell_type": "code",
   "execution_count": 12,
   "id": "ee0ca6e1",
   "metadata": {},
   "outputs": [
    {
     "name": "stderr",
     "output_type": "stream",
     "text": [
      "C:\\Users\\WINDOWS\\AppData\\Local\\Programs\\Python\\Python39\\lib\\site-packages\\sklearn\\feature_extraction\\text.py:404: UserWarning: Your stop_words may be inconsistent with your preprocessing. Tokenizing the stop words generated tokens ['baiknya', 'berkali', 'kali', 'kurangnya', 'mata', 'olah', 'sekurang', 'setidak', 'tama', 'tidaknya'] not in stop_words.\n",
      "  warnings.warn(\n"
     ]
    }
   ],
   "source": [
    "vect_text=vect.fit_transform(df['abstrak_cleaned'])"
   ]
  },
  {
   "cell_type": "code",
   "execution_count": 13,
   "id": "a0dbc9e8",
   "metadata": {},
   "outputs": [
    {
     "name": "stdout",
     "output_type": "stream",
     "text": [
      "(12, 421)\n",
      "         0         1         2         3         4         5         6    \\\n",
      "0   0.039358  0.000000  0.000000  0.000000  0.000000  0.000000  0.033801   \n",
      "1   0.000000  0.000000  0.000000  0.000000  0.000000  0.000000  0.000000   \n",
      "2   0.000000  0.000000  0.000000  0.000000  0.000000  0.000000  0.000000   \n",
      "3   0.000000  0.000000  0.000000  0.000000  0.000000  0.000000  0.000000   \n",
      "4   0.000000  0.049824  0.000000  0.000000  0.000000  0.000000  0.000000   \n",
      "5   0.000000  0.000000  0.067483  0.067483  0.000000  0.000000  0.000000   \n",
      "6   0.000000  0.000000  0.000000  0.000000  0.048936  0.146808  0.084054   \n",
      "7   0.000000  0.000000  0.000000  0.000000  0.000000  0.000000  0.000000   \n",
      "8   0.000000  0.000000  0.000000  0.000000  0.000000  0.000000  0.000000   \n",
      "9   0.000000  0.000000  0.000000  0.000000  0.000000  0.000000  0.000000   \n",
      "10  0.000000  0.000000  0.000000  0.000000  0.000000  0.000000  0.000000   \n",
      "11  0.000000  0.000000  0.000000  0.000000  0.000000  0.000000  0.000000   \n",
      "\n",
      "         7         8         9    ...       411       412       413       414  \\\n",
      "0   0.000000  0.000000  0.000000  ...  0.031989  0.000000  0.000000  0.033801   \n",
      "1   0.000000  0.000000  0.000000  ...  0.090420  0.000000  0.000000  0.063695   \n",
      "2   0.000000  0.000000  0.000000  ...  0.000000  0.000000  0.079477  0.000000   \n",
      "3   0.000000  0.000000  0.117968  ...  0.111643  0.000000  0.000000  0.000000   \n",
      "4   0.000000  0.049824  0.042789  ...  0.121485  0.000000  0.000000  0.000000   \n",
      "5   0.000000  0.000000  0.000000  ...  0.082272  0.000000  0.000000  0.000000   \n",
      "6   0.048936  0.000000  0.000000  ...  0.000000  0.000000  0.000000  0.000000   \n",
      "7   0.000000  0.000000  0.000000  ...  0.114234  0.000000  0.000000  0.000000   \n",
      "8   0.000000  0.000000  0.000000  ...  0.272995  0.000000  0.000000  0.000000   \n",
      "9   0.000000  0.000000  0.000000  ...  0.102332  0.062953  0.000000  0.000000   \n",
      "10  0.000000  0.000000  0.000000  ...  0.124127  0.000000  0.000000  0.000000   \n",
      "11  0.000000  0.000000  0.000000  ...  0.289423  0.000000  0.000000  0.000000   \n",
      "\n",
      "         415       416       417       418       419       420  \n",
      "0   0.000000  0.000000  0.000000  0.000000  0.000000  0.000000  \n",
      "1   0.000000  0.000000  0.000000  0.000000  0.000000  0.000000  \n",
      "2   0.079477  0.068255  0.000000  0.000000  0.000000  0.000000  \n",
      "3   0.000000  0.000000  0.000000  0.000000  0.000000  0.000000  \n",
      "4   0.000000  0.000000  0.049824  0.000000  0.049824  0.000000  \n",
      "5   0.000000  0.000000  0.000000  0.000000  0.000000  0.000000  \n",
      "6   0.000000  0.000000  0.000000  0.000000  0.000000  0.000000  \n",
      "7   0.000000  0.000000  0.000000  0.000000  0.000000  0.000000  \n",
      "8   0.000000  0.000000  0.000000  0.000000  0.000000  0.000000  \n",
      "9   0.000000  0.000000  0.000000  0.062953  0.000000  0.251811  \n",
      "10  0.000000  0.052463  0.000000  0.000000  0.000000  0.000000  \n",
      "11  0.000000  0.000000  0.000000  0.000000  0.000000  0.000000  \n",
      "\n",
      "[12 rows x 421 columns]\n"
     ]
    }
   ],
   "source": [
    "print(vect_text.shape)\n",
    "#print(vect_text)\n",
    "type(vect_text)\n",
    "df=pd.DataFrame(vect_text.toarray())\n",
    "print(df)\n",
    "idf=vect.idf_"
   ]
  },
  {
   "cell_type": "code",
   "execution_count": 16,
   "id": "903bb655",
   "metadata": {},
   "outputs": [
    {
     "name": "stdout",
     "output_type": "stream",
     "text": [
      "penelitian yamaha\n",
      "2.466337068793427\n",
      "2.8718021769015913\n"
     ]
    }
   ],
   "source": [
    "dd=dict(zip(vect.get_feature_names(), idf))\n",
    "l=sorted(dd, key=(dd).get)\n",
    "# print(l)\n",
    "print(l[0],l[-1])\n",
    "print(dd['faktor'])\n",
    "print(dd['instruktur'])  # police is most common and forecast is least common among the news headlines."
   ]
  }
 ],
 "metadata": {
  "kernelspec": {
   "display_name": "Python 3 (ipykernel)",
   "language": "python",
   "name": "python3"
  },
  "language_info": {
   "codemirror_mode": {
    "name": "ipython",
    "version": 3
   },
   "file_extension": ".py",
   "mimetype": "text/x-python",
   "name": "python",
   "nbconvert_exporter": "python",
   "pygments_lexer": "ipython3",
   "version": "3.9.7"
  }
 },
 "nbformat": 4,
 "nbformat_minor": 5
}
